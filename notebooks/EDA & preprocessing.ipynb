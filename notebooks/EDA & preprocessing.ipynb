{
 "cells": [
  {
   "cell_type": "code",
   "execution_count": null,
   "id": "b5867831",
   "metadata": {},
   "outputs": [],
   "source": [
    "import pandas as pd\n",
    "import numpy as np\n",
    "import ipaddress\n",
    "import matplotlib.pyplot as plt\n",
    "import seaborn as sns\n",
    "\n",
    "from sklearn.preprocessing import StandardScaler\n",
    "from sklearn.model_selection import train_test_split\n",
    "from sklearn.preprocessing import OneHotEncoder\n",
    "from imblearn.over_sampling import SMOTE\n"
   ]
  },
  {
   "cell_type": "code",
   "execution_count": null,
   "id": "a10cbf9f",
   "metadata": {},
   "outputs": [],
   "source": [
    "#Load the Data\n",
    "fraud_df = pd.read_csv(\"../data/raw/Fraud_Data.csv\")\n",
    "ip_df = pd.read_csv(\"../data/raw/IpAddress_to_Country.csv\")\n",
    "\n",
    "fraud_df.head()\n"
   ]
  },
  {
   "cell_type": "code",
   "execution_count": null,
   "id": "2280f6eb",
   "metadata": {},
   "outputs": [],
   "source": [
    "# Remove Duplicates and Fix Data Types\n",
    "fraud_df = fraud_df.drop_duplicates()\n",
    "\n",
    "fraud_df['signup_time'] = pd.to_datetime(fraud_df['signup_time'])\n",
    "fraud_df['purchase_time'] = pd.to_datetime(fraud_df['purchase_time'])\n",
    "fraud_df['age'] = pd.to_numeric(fraud_df['age'], errors='coerce')\n",
    "\n",
    "fraud_df.info()\n"
   ]
  },
  {
   "cell_type": "code",
   "execution_count": null,
   "id": "e105e4fe",
   "metadata": {},
   "outputs": [],
   "source": [
    "# Handle Missing Values\n",
    "fraud_df['sex'] = fraud_df['sex'].fillna('Unknown')\n",
    "fraud_df = fraud_df.dropna(subset=['age', 'purchase_value'])\n",
    "\n",
    "fraud_df.isnull().sum()\n"
   ]
  },
  {
   "cell_type": "code",
   "execution_count": null,
   "id": "16379a53",
   "metadata": {},
   "outputs": [],
   "source": [
    "# Convert IPs to Integers\n",
    "def ip_to_int(ip_str):\n",
    "    return int(ipaddress.IPv4Address(ip_str))\n",
    "\n",
    "fraud_df['ip_int'] = fraud_df['ip_address'].apply(ip_to_int)\n",
    "ip_df['lower_bound_ip_address'] = ip_df['lower_bound_ip_address'].apply(ip_to_int)\n",
    "ip_df['upper_bound_ip_address'] = ip_df['upper_bound_ip_address'].apply(ip_to_int)\n"
   ]
  },
  {
   "cell_type": "code",
   "execution_count": null,
   "id": "d7fe10e0",
   "metadata": {},
   "outputs": [],
   "source": [
    "# Map IP to Country\n",
    "def map_ip_to_country(ip):\n",
    "    match = ip_df[(ip_df['lower_bound_ip_address'] <= ip) & (ip_df['upper_bound_ip_address'] >= ip)]\n",
    "    return match['country'].values[0] if not match.empty else 'Unknown'\n",
    "\n",
    "fraud_df['country'] = fraud_df['ip_int'].apply(map_ip_to_country)\n"
   ]
  },
  {
   "cell_type": "code",
   "execution_count": null,
   "id": "dcfea7df",
   "metadata": {},
   "outputs": [],
   "source": [
    "# Time-Based Feature Engineering\n",
    "fraud_df['time_since_signup'] = (fraud_df['purchase_time'] - fraud_df['signup_time']).dt.total_seconds()\n",
    "fraud_df['hour_of_day'] = fraud_df['purchase_time'].dt.hour\n",
    "fraud_df['day_of_week'] = fraud_df['purchase_time'].dt.dayofweek\n"
   ]
  },
  {
   "cell_type": "code",
   "execution_count": null,
   "id": "bf660878",
   "metadata": {},
   "outputs": [],
   "source": [
    "#  Frequency-Based Feature Engineering\n",
    "fraud_df['user_transaction_count'] = fraud_df.groupby('user_id')['user_id'].transform('count')\n",
    "fraud_df['device_transaction_count'] = fraud_df.groupby('device_id')['device_id'].transform('count')\n"
   ]
  },
  {
   "cell_type": "code",
   "execution_count": null,
   "id": "f88a9816",
   "metadata": {},
   "outputs": [],
   "source": [
    "# One-Hot Encoding of Categoricals\n",
    "fraud_df = pd.get_dummies(fraud_df, columns=['source', 'browser', 'sex', 'country'], drop_first=True)\n"
   ]
  },
  {
   "cell_type": "code",
   "execution_count": null,
   "id": "b1620d4f",
   "metadata": {},
   "outputs": [],
   "source": [
    "# Scaling Numeric Features\n",
    "scaler = StandardScaler()\n",
    "\n",
    "scale_cols = ['purchase_value', 'age', 'time_since_signup', 'hour_of_day',\n",
    "              'day_of_week', 'user_transaction_count', 'device_transaction_count']\n",
    "\n",
    "fraud_df[scale_cols] = scaler.fit_transform(fraud_df[scale_cols])\n"
   ]
  },
  {
   "cell_type": "code",
   "execution_count": null,
   "id": "adddc88c",
   "metadata": {},
   "outputs": [],
   "source": [
    "# Train-Test Split\n",
    "X = fraud_df.drop(columns=['class', 'user_id', 'signup_time', 'purchase_time', 'ip_address', 'ip_int'])\n",
    "y = fraud_df['class']\n",
    "\n",
    "X_train, X_test, y_train, y_test = train_test_split(X, y, stratify=y, test_size=0.3, random_state=42)\n"
   ]
  },
  {
   "cell_type": "code",
   "execution_count": null,
   "id": "7b93da25",
   "metadata": {},
   "outputs": [
    {
     "ename": "",
     "evalue": "",
     "output_type": "error",
     "traceback": [
      "\u001b[1;31mRunning cells with '.venv (Python 3.12.7)' requires the ipykernel package.\n",
      "\u001b[1;31mInstall 'ipykernel' into the Python environment. \n",
      "\u001b[1;31mCommand: '\"c:/Users/ltlid/OneDrive/Desktop/Educational/10 Academy/Week 8 - 9/fraud_detection_system/.venv/Scripts/python.exe\" -m pip install ipykernel -U --force-reinstall'"
     ]
    }
   ],
   "source": [
    "# Handle Class Imbalance with SMOTE\n",
    "print(\"Before SMOTE:\", y_train.value_counts())\n",
    "\n",
    "smote = SMOTE(random_state=42)\n",
    "X_train_resampled, y_train_resampled = smote.fit_resample(X_train, y_train)\n",
    "\n",
    "print(\"After SMOTE:\", y_train_resampled.value_counts())\n"
   ]
  }
 ],
 "metadata": {
  "kernelspec": {
   "display_name": ".venv",
   "language": "python",
   "name": "python3"
  },
  "language_info": {
   "name": "python",
   "version": "3.12.7"
  }
 },
 "nbformat": 4,
 "nbformat_minor": 5
}
